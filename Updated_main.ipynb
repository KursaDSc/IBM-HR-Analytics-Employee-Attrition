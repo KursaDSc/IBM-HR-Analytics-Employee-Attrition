{
 "cells": [
  {
   "attachments": {},
   "cell_type": "markdown",
   "metadata": {},
   "source": [
    "### IBM HR Analytics Employee Attrition & Performance\n"
   ]
  },
  {
   "attachments": {},
   "cell_type": "markdown",
   "metadata": {},
   "source": [
    "#### About Dataset "
   ]
  },
  {
   "attachments": {},
   "cell_type": "markdown",
   "metadata": {},
   "source": [
    "Education\n",
    "1 'Below College'\n",
    "2 'College'\n",
    "3 'Bachelor'\n",
    "4 'Master'\n",
    "5 'Doctor'\n",
    "\n",
    "EnvironmentSatisfaction\n",
    "1 'Low'\n",
    "2 'Medium'\n",
    "3 'High'\n",
    "4 'Very High'\n",
    "\n",
    "JobInvolvement\n",
    "1 'Low'\n",
    "2 'Medium'\n",
    "3 'High'\n",
    "4 'Very High'\n",
    "\n",
    "JobSatisfaction\n",
    "1 'Low'\n",
    "2 'Medium'\n",
    "3 'High'\n",
    "4 'Very High'\n",
    "\n",
    "PerformanceRating\n",
    "1 'Low'\n",
    "2 'Good'\n",
    "3 'Excellent'\n",
    "4 'Outstanding'\n",
    "\n",
    "RelationshipSatisfaction\n",
    "1 'Low'\n",
    "2 'Medium'\n",
    "3 'High'\n",
    "4 'Very High'\n",
    "\n",
    "WorkLifeBalance\n",
    "1 'Bad'\n",
    "2 'Good'\n",
    "3 'Better'\n",
    "4 'Best'"
   ]
  },
  {
   "cell_type": "code",
   "execution_count": 13,
   "metadata": {},
   "outputs": [],
   "source": [
    "import numpy as np\n",
    "from numpy import median\n",
    "from scipy import stats\n",
    "import pandas as pd\n",
    "import seaborn as sns\n",
    "sns.set()\n",
    "import matplotlib.pyplot as plt\n",
    "%matplotlib inline\n",
    "from collections import Counter\n",
    "import random as rn\n",
    "from functools import reduce "
   ]
  },
  {
   "attachments": {},
   "cell_type": "markdown",
   "metadata": {},
   "source": []
  },
  {
   "attachments": {},
   "cell_type": "markdown",
   "metadata": {},
   "source": [
    "### import Data"
   ]
  },
  {
   "cell_type": "code",
   "execution_count": 14,
   "metadata": {},
   "outputs": [],
   "source": [
    "df= pd.read_csv(\"WA_Fn-UseC_-HR-Employee-Attrition.csv\")\n"
   ]
  },
  {
   "attachments": {},
   "cell_type": "markdown",
   "metadata": {},
   "source": []
  },
  {
   "attachments": {},
   "cell_type": "markdown",
   "metadata": {},
   "source": [
    "### Detailed Description of IBM HR Dataset"
   ]
  },
  {
   "attachments": {},
   "cell_type": "markdown",
   "metadata": {},
   "source": [
    " - > In this dataset is composed of 35 columns and 1470 rows."
   ]
  },
  {
   "cell_type": "code",
   "execution_count": 15,
   "metadata": {},
   "outputs": [
    {
     "name": "stdout",
     "output_type": "stream",
     "text": [
      "<class 'pandas.core.frame.DataFrame'>\n",
      "RangeIndex: 1470 entries, 0 to 1469\n",
      "Data columns (total 35 columns):\n",
      " #   Column                    Non-Null Count  Dtype \n",
      "---  ------                    --------------  ----- \n",
      " 0   Age                       1470 non-null   int64 \n",
      " 1   Attrition                 1470 non-null   object\n",
      " 2   BusinessTravel            1470 non-null   object\n",
      " 3   DailyRate                 1470 non-null   int64 \n",
      " 4   Department                1470 non-null   object\n",
      " 5   DistanceFromHome          1470 non-null   int64 \n",
      " 6   Education                 1470 non-null   int64 \n",
      " 7   EducationField            1470 non-null   object\n",
      " 8   EmployeeCount             1470 non-null   int64 \n",
      " 9   EmployeeNumber            1470 non-null   int64 \n",
      " 10  EnvironmentSatisfaction   1470 non-null   int64 \n",
      " 11  Gender                    1470 non-null   object\n",
      " 12  HourlyRate                1470 non-null   int64 \n",
      " 13  JobInvolvement            1470 non-null   int64 \n",
      " 14  JobLevel                  1470 non-null   int64 \n",
      " 15  JobRole                   1470 non-null   object\n",
      " 16  JobSatisfaction           1470 non-null   int64 \n",
      " 17  MaritalStatus             1470 non-null   object\n",
      " 18  MonthlyIncome             1470 non-null   int64 \n",
      " 19  MonthlyRate               1470 non-null   int64 \n",
      " 20  NumCompaniesWorked        1470 non-null   int64 \n",
      " 21  Over18                    1470 non-null   object\n",
      " 22  OverTime                  1470 non-null   object\n",
      " 23  PercentSalaryHike         1470 non-null   int64 \n",
      " 24  PerformanceRating         1470 non-null   int64 \n",
      " 25  RelationshipSatisfaction  1470 non-null   int64 \n",
      " 26  StandardHours             1470 non-null   int64 \n",
      " 27  StockOptionLevel          1470 non-null   int64 \n",
      " 28  TotalWorkingYears         1470 non-null   int64 \n",
      " 29  TrainingTimesLastYear     1470 non-null   int64 \n",
      " 30  WorkLifeBalance           1470 non-null   int64 \n",
      " 31  YearsAtCompany            1470 non-null   int64 \n",
      " 32  YearsInCurrentRole        1470 non-null   int64 \n",
      " 33  YearsSinceLastPromotion   1470 non-null   int64 \n",
      " 34  YearsWithCurrManager      1470 non-null   int64 \n",
      "dtypes: int64(26), object(9)\n",
      "memory usage: 402.1+ KB\n"
     ]
    }
   ],
   "source": [
    "df.info()"
   ]
  },
  {
   "attachments": {},
   "cell_type": "markdown",
   "metadata": {},
   "source": [
    "#### Read data and calculate number of rows and columns\n"
   ]
  },
  {
   "cell_type": "code",
   "execution_count": 16,
   "metadata": {},
   "outputs": [
    {
     "name": "stdout",
     "output_type": "stream",
     "text": [
      "Number of rows: 1470\n",
      "Number of columns: 35\n"
     ]
    }
   ],
   "source": [
    "num_rows, num_cols = df.shape\n",
    "print(f'Number of rows: {num_rows}\\nNumber of columns: {num_cols}')"
   ]
  },
  {
   "attachments": {},
   "cell_type": "markdown",
   "metadata": {},
   "source": [
    "#### Categorical columns"
   ]
  },
  {
   "cell_type": "code",
   "execution_count": 17,
   "metadata": {},
   "outputs": [
    {
     "name": "stdout",
     "output_type": "stream",
     "text": [
      "Index(['Attrition', 'BusinessTravel', 'Department', 'EducationField', 'Gender',\n",
      "       'JobRole', 'MaritalStatus', 'Over18', 'OverTime'],\n",
      "      dtype='object')\n"
     ]
    }
   ],
   "source": [
    "\n",
    "categorical= df.select_dtypes(include=['object', 'category']).columns\n",
    "print(categorical)\n"
   ]
  },
  {
   "attachments": {},
   "cell_type": "markdown",
   "metadata": {},
   "source": [
    "### Numerical columns"
   ]
  },
  {
   "cell_type": "code",
   "execution_count": 18,
   "metadata": {},
   "outputs": [
    {
     "name": "stdout",
     "output_type": "stream",
     "text": [
      "Index(['Age', 'DailyRate', 'DistanceFromHome', 'Education', 'EmployeeCount',\n",
      "       'EmployeeNumber', 'EnvironmentSatisfaction', 'HourlyRate',\n",
      "       'JobInvolvement', 'JobLevel', 'JobSatisfaction', 'MonthlyIncome',\n",
      "       'MonthlyRate', 'NumCompaniesWorked', 'PercentSalaryHike',\n",
      "       'PerformanceRating', 'RelationshipSatisfaction', 'StandardHours',\n",
      "       'StockOptionLevel', 'TotalWorkingYears', 'TrainingTimesLastYear',\n",
      "       'WorkLifeBalance', 'YearsAtCompany', 'YearsInCurrentRole',\n",
      "       'YearsSinceLastPromotion', 'YearsWithCurrManager'],\n",
      "      dtype='object')\n"
     ]
    }
   ],
   "source": [
    "numerical = df.select_dtypes(include=['int', 'float']).columns\n",
    "print(numerical)"
   ]
  },
  {
   "attachments": {},
   "cell_type": "markdown",
   "metadata": {},
   "source": [
    "### Missing data\n"
   ]
  },
  {
   "attachments": {},
   "cell_type": "markdown",
   "metadata": {},
   "source": [
    "#### Check if the DataFrame any missing values"
   ]
  },
  {
   "cell_type": "code",
   "execution_count": 19,
   "metadata": {},
   "outputs": [
    {
     "name": "stdout",
     "output_type": "stream",
     "text": [
      " ---> The DataFrame does not have contain any missing values.\n"
     ]
    }
   ],
   "source": [
    "missing_value = df.isnull().values.any()\n",
    "# count the number of missing values in each column\n",
    "num_missing_values = df.isnull().sum()\n",
    "\n",
    "if missing_value:\n",
    "    print(f\"---> Number of missing values in each column:{num_missing_values}\")\n",
    "else:\n",
    "    print(\" ---> The DataFrame does not have contain any missing values.\")"
   ]
  },
  {
   "attachments": {},
   "cell_type": "markdown",
   "metadata": {},
   "source": [
    "### Duplicate Records"
   ]
  },
  {
   "attachments": {},
   "cell_type": "markdown",
   "metadata": {},
   "source": [
    "### Check if the DataFrame duplicated records"
   ]
  },
  {
   "cell_type": "code",
   "execution_count": 20,
   "metadata": {},
   "outputs": [
    {
     "name": "stdout",
     "output_type": "stream",
     "text": [
      "---> The DataFrame does not contain any dupplicated recorda.\n"
     ]
    }
   ],
   "source": [
    "duplicated_data = df.duplicated()\n",
    "\n",
    "num_duplicated_data = df.duplicated().sum()\n",
    "if duplicated_data.any():\n",
    "    print(f\"Number of duplicated records: {num_duplicated_data}\")\n",
    "else:\n",
    "    print(\"---> The DataFrame does not contain any dupplicated recorda.\")  \n"
   ]
  },
  {
   "attachments": {},
   "cell_type": "markdown",
   "metadata": {},
   "source": [
    "### Check uniformed values"
   ]
  },
  {
   "cell_type": "code",
   "execution_count": 21,
   "metadata": {},
   "outputs": [
    {
     "name": "stdout",
     "output_type": "stream",
     "text": [
      "The DataFrame contains columns with uniformed values: EmployeeCount\n",
      "The DataFrame contains columns with uniformed values: Over18\n",
      "The DataFrame contains columns with uniformed values: StandardHours\n"
     ]
    }
   ],
   "source": [
    "uniformed_columns = []\n",
    "for i in df.columns:\n",
    "    unique_values = df[i].dropna().unique()\n",
    "    \n",
    "    if len(unique_values) == 1:\n",
    "        uniformed_columns.append(i)\n",
    "if uniformed_columns:\n",
    "    \n",
    "    for i in uniformed_columns:\n",
    "        print(\"The DataFrame contains columns with uniformed values:\", i)\n",
    "else:\n",
    "    \n",
    "    print(\"The DataFrame does not contain columns with uniformed values.\")\n",
    "    \n",
    "    "
   ]
  },
  {
   "attachments": {},
   "cell_type": "markdown",
   "metadata": {},
   "source": [
    "##### Reassing response variable"
   ]
  },
  {
   "attachments": {},
   "cell_type": "markdown",
   "metadata": {},
   "source": [
    "Response variable is 'Attrition' of the employees which can 1 and 0 (representing 'Yes' and 'No' respectively). This is what we will predict."
   ]
  },
  {
   "cell_type": "code",
   "execution_count": 22,
   "metadata": {},
   "outputs": [
    {
     "data": {
      "text/plain": [
       "0       1\n",
       "1       0\n",
       "2       1\n",
       "3       0\n",
       "4       0\n",
       "       ..\n",
       "1465    0\n",
       "1466    0\n",
       "1467    0\n",
       "1468    0\n",
       "1469    0\n",
       "Name: Attrition, Length: 1470, dtype: int64"
      ]
     },
     "execution_count": 22,
     "metadata": {},
     "output_type": "execute_result"
    }
   ],
   "source": [
    "df['Attrition'] = df['Attrition'].apply(lambda x: 0 if x == 'No' else 1)\n",
    "df[\"Attrition\"]"
   ]
  },
  {
   "attachments": {},
   "cell_type": "markdown",
   "metadata": {},
   "source": [
    "#### Drop useless "
   ]
  },
  {
   "cell_type": "code",
   "execution_count": 23,
   "metadata": {},
   "outputs": [],
   "source": [
    "# Drop useless features and rename the dataframe\n",
    "df2 = df.drop(labels = ['Over18','StandardHours','EmployeeCount'], axis = 1)"
   ]
  },
  {
   "attachments": {},
   "cell_type": "markdown",
   "metadata": {},
   "source": [
    "#### Change Object types to categories \n",
    "\n"
   ]
  },
  {
   "cell_type": "code",
   "execution_count": 24,
   "metadata": {},
   "outputs": [],
   "source": [
    "categories_data = ['BusinessTravel','Department','EducationField','Gender','JobRole','MaritalStatus','OverTime']\n",
    "for col in categories_data:\n",
    "    df2[col] = df2[col].astype('category')"
   ]
  },
  {
   "cell_type": "code",
   "execution_count": 25,
   "metadata": {},
   "outputs": [
    {
     "name": "stdout",
     "output_type": "stream",
     "text": [
      "<class 'pandas.core.frame.DataFrame'>\n",
      "RangeIndex: 1470 entries, 0 to 1469\n",
      "Data columns (total 32 columns):\n",
      " #   Column                    Non-Null Count  Dtype   \n",
      "---  ------                    --------------  -----   \n",
      " 0   Age                       1470 non-null   int64   \n",
      " 1   Attrition                 1470 non-null   int64   \n",
      " 2   BusinessTravel            1470 non-null   category\n",
      " 3   DailyRate                 1470 non-null   int64   \n",
      " 4   Department                1470 non-null   category\n",
      " 5   DistanceFromHome          1470 non-null   int64   \n",
      " 6   Education                 1470 non-null   int64   \n",
      " 7   EducationField            1470 non-null   category\n",
      " 8   EmployeeNumber            1470 non-null   int64   \n",
      " 9   EnvironmentSatisfaction   1470 non-null   int64   \n",
      " 10  Gender                    1470 non-null   category\n",
      " 11  HourlyRate                1470 non-null   int64   \n",
      " 12  JobInvolvement            1470 non-null   int64   \n",
      " 13  JobLevel                  1470 non-null   int64   \n",
      " 14  JobRole                   1470 non-null   category\n",
      " 15  JobSatisfaction           1470 non-null   int64   \n",
      " 16  MaritalStatus             1470 non-null   category\n",
      " 17  MonthlyIncome             1470 non-null   int64   \n",
      " 18  MonthlyRate               1470 non-null   int64   \n",
      " 19  NumCompaniesWorked        1470 non-null   int64   \n",
      " 20  OverTime                  1470 non-null   category\n",
      " 21  PercentSalaryHike         1470 non-null   int64   \n",
      " 22  PerformanceRating         1470 non-null   int64   \n",
      " 23  RelationshipSatisfaction  1470 non-null   int64   \n",
      " 24  StockOptionLevel          1470 non-null   int64   \n",
      " 25  TotalWorkingYears         1470 non-null   int64   \n",
      " 26  TrainingTimesLastYear     1470 non-null   int64   \n",
      " 27  WorkLifeBalance           1470 non-null   int64   \n",
      " 28  YearsAtCompany            1470 non-null   int64   \n",
      " 29  YearsInCurrentRole        1470 non-null   int64   \n",
      " 30  YearsSinceLastPromotion   1470 non-null   int64   \n",
      " 31  YearsWithCurrManager      1470 non-null   int64   \n",
      "dtypes: category(7), int64(25)\n",
      "memory usage: 298.5 KB\n"
     ]
    }
   ],
   "source": [
    "df2.info()"
   ]
  },
  {
   "attachments": {},
   "cell_type": "markdown",
   "metadata": {},
   "source": [
    "# Data Analysis "
   ]
  },
  {
   "attachments": {},
   "cell_type": "markdown",
   "metadata": {},
   "source": [
    "### 1, What is the attrition rate for the company, and what are the factors that contribute to it?"
   ]
  },
  {
   "attachments": {},
   "cell_type": "markdown",
   "metadata": {},
   "source": [
    "to calculate the attrition rate for the company, you need to determine the proportion of employees who have left the company compared to the total number of employees. \n",
    "\n",
    "In the company, there are 1470 employees. 237 employees who compose 16% of the total number of employee left the company for some reasons. \n",
    "\n",
    "Besides that, 1233 employee is currently continuing to work in the same company.\n",
    "\n",
    "\n"
   ]
  },
  {
   "cell_type": "code",
   "execution_count": 26,
   "metadata": {},
   "outputs": [
    {
     "data": {
      "image/png": "[encoded data removed]",
      "text/plain": [
       "<Figure size 640x480 with 1 Axes>"
      ]
     },
     "metadata": {},
     "output_type": "display_data"
    },
    {
     "name": "stdout",
     "output_type": "stream",
     "text": [
      "Currently Working in Company: 1233\n",
      "Left the Company: 237\n"
     ]
    },
    {
     "data": {
      "text/plain": [
       "'In the company, there are 1470 employees. 237 employees who compose 16% of the \\ntotal number of employee left the company for some reasons. Besides that, 1233 employee \\nis currently continuing to work in the same company.\\n'"
      ]
     },
     "execution_count": 26,
     "metadata": {},
     "output_type": "execute_result"
    }
   ],
   "source": [
    "\"\"\"\n",
    "attrition_counts = variable contains the count of employees in each attrition category('Currently Working in Company' and 'Left the Company').\n",
    "The count of employees who have left the company can be accessed with attrition_counts['Left the Company']. Dividing this count by the sum \n",
    "of the counts for both categories gives you the proportion of employees who have left. Multiplying by 100 gives the percentage attrition rate. \n",
    "Finally, the attrition rate is rounded to two decimal places using round().\n",
    "\"\"\"\n",
    "attrition_counts = df2['Attrition'].value_counts()\n",
    "attrition_rate_percentage = (attrition_counts[1] / attrition_counts.sum()) * 100\n",
    "attrition_rate_percentage = round(attrition_rate_percentage, 2)\n",
    "\n",
    "# Create bar plot\n",
    "colors = ['blue', 'red']\n",
    "plt.bar(attrition_counts.index, attrition_counts.values, color=colors)\n",
    "plt.title('Attrition in the Company')\n",
    "plt.xlabel('Attrition Status')\n",
    "plt.ylabel('Employee Number')\n",
    "\n",
    "# Change x-axis tick labels\n",
    "plt.xticks(attrition_counts.index, ['Currently Working in Company', 'Left the Company'])\n",
    "\n",
    "plt.show()\n",
    "\n",
    "\n",
    "print(\"Currently Working in Company:\", attrition_counts[0])\n",
    "print(\"Left the Company:\", attrition_counts[1])\n",
    "\n",
    "\"\"\"In the company, there are 1470 employees. 237 employees who compose 16% of the \n",
    "total number of employee left the company for some reasons. Besides that, 1233 employee \n",
    "is currently continuing to work in the same company.\n",
    "\"\"\""
   ]
  },
  {
   "attachments": {},
   "cell_type": "markdown",
   "metadata": {},
   "source": []
  },
  {
   "cell_type": "code",
   "execution_count": null,
   "metadata": {},
   "outputs": [],
   "source": []
  },
  {
   "attachments": {},
   "cell_type": "markdown",
   "metadata": {},
   "source": [
    "### 2. Is there a relationship between distance from home and attrition, and does it vary by job role?\n"
   ]
  },
  {
   "attachments": {},
   "cell_type": "markdown",
   "metadata": {},
   "source": []
  },
  {
   "cell_type": "code",
   "execution_count": 27,
   "metadata": {},
   "outputs": [
    {
     "data": {
      "text/html": [
       "<div>\n",
       "<style scoped>\n",
       "    .dataframe tbody tr th:only-of-type {\n",
       "        vertical-align: middle;\n",
       "    }\n",
       "\n",
       "    .dataframe tbody tr th {\n",
       "        vertical-align: top;\n",
       "    }\n",
       "\n",
       "    .dataframe thead th {\n",
       "        text-align: right;\n",
       "    }\n",
       "</style>\n",
       "<table border=\"1\" class=\"dataframe\">\n",
       "  <thead>\n",
       "    <tr style=\"text-align: right;\">\n",
       "      <th></th>\n",
       "      <th>Attrition</th>\n",
       "      <th>DistanceFromHome</th>\n",
       "      <th>JobRole</th>\n",
       "    </tr>\n",
       "  </thead>\n",
       "  <tbody>\n",
       "    <tr>\n",
       "      <th>0</th>\n",
       "      <td>1</td>\n",
       "      <td>1</td>\n",
       "      <td>Sales Executive</td>\n",
       "    </tr>\n",
       "    <tr>\n",
       "      <th>1</th>\n",
       "      <td>0</td>\n",
       "      <td>8</td>\n",
       "      <td>Research Scientist</td>\n",
       "    </tr>\n",
       "    <tr>\n",
       "      <th>2</th>\n",
       "      <td>1</td>\n",
       "      <td>2</td>\n",
       "      <td>Laboratory Technician</td>\n",
       "    </tr>\n",
       "    <tr>\n",
       "      <th>3</th>\n",
       "      <td>0</td>\n",
       "      <td>3</td>\n",
       "      <td>Research Scientist</td>\n",
       "    </tr>\n",
       "    <tr>\n",
       "      <th>4</th>\n",
       "      <td>0</td>\n",
       "      <td>2</td>\n",
       "      <td>Laboratory Technician</td>\n",
       "    </tr>\n",
       "    <tr>\n",
       "      <th>...</th>\n",
       "      <td>...</td>\n",
       "      <td>...</td>\n",
       "      <td>...</td>\n",
       "    </tr>\n",
       "    <tr>\n",
       "      <th>1465</th>\n",
       "      <td>0</td>\n",
       "      <td>23</td>\n",
       "      <td>Laboratory Technician</td>\n",
       "    </tr>\n",
       "    <tr>\n",
       "      <th>1466</th>\n",
       "      <td>0</td>\n",
       "      <td>6</td>\n",
       "      <td>Healthcare Representative</td>\n",
       "    </tr>\n",
       "    <tr>\n",
       "      <th>1467</th>\n",
       "      <td>0</td>\n",
       "      <td>4</td>\n",
       "      <td>Manufacturing Director</td>\n",
       "    </tr>\n",
       "    <tr>\n",
       "      <th>1468</th>\n",
       "      <td>0</td>\n",
       "      <td>2</td>\n",
       "      <td>Sales Executive</td>\n",
       "    </tr>\n",
       "    <tr>\n",
       "      <th>1469</th>\n",
       "      <td>0</td>\n",
       "      <td>8</td>\n",
       "      <td>Laboratory Technician</td>\n",
       "    </tr>\n",
       "  </tbody>\n",
       "</table>\n",
       "<p>1470 rows × 3 columns</p>\n",
       "</div>"
      ],
      "text/plain": [
       "      Attrition  DistanceFromHome                    JobRole\n",
       "0             1                 1            Sales Executive\n",
       "1             0                 8         Research Scientist\n",
       "2             1                 2      Laboratory Technician\n",
       "3             0                 3         Research Scientist\n",
       "4             0                 2      Laboratory Technician\n",
       "...         ...               ...                        ...\n",
       "1465          0                23      Laboratory Technician\n",
       "1466          0                 6  Healthcare Representative\n",
       "1467          0                 4     Manufacturing Director\n",
       "1468          0                 2            Sales Executive\n",
       "1469          0                 8      Laboratory Technician\n",
       "\n",
       "[1470 rows x 3 columns]"
      ]
     },
     "execution_count": 27,
     "metadata": {},
     "output_type": "execute_result"
    }
   ],
   "source": [
    "\"\"\"This line creates a new DataFrame called subset_df by selecting specific columns from the original DataFrame df2.\n",
    "The columns included are 'Attrition', 'DistanceFromHome', and 'JobRole'. \"\"\"\n",
    "\n",
    "subset_df = df2[['Attrition', 'DistanceFromHome', 'JobRole']]\n",
    "subset_df"
   ]
  },
  {
   "attachments": {},
   "cell_type": "markdown",
   "metadata": {},
   "source": []
  },
  {
   "attachments": {},
   "cell_type": "markdown",
   "metadata": {},
   "source": [
    "2, Perform a correlation test between 'DistanceFromHome' and 'Attrition'"
   ]
  },
  {
   "cell_type": "code",
   "execution_count": 28,
   "metadata": {},
   "outputs": [
    {
     "name": "stdout",
     "output_type": "stream",
     "text": [
      "Correlation between DistanceFromHome and Attrition: 0.07792358295570376\n"
     ]
    }
   ],
   "source": [
    "correlation = subset_df['DistanceFromHome'].corr(subset_df['Attrition'])\n",
    "print(\"Correlation between DistanceFromHome and Attrition:\", correlation)\n"
   ]
  },
  {
   "attachments": {},
   "cell_type": "markdown",
   "metadata": {},
   "source": [
    "1.2 , print the correlation coefficient between the two variables.\n",
    "    Compare attrition rates across different job roles:"
   ]
  },
  {
   "cell_type": "code",
   "execution_count": 29,
   "metadata": {},
   "outputs": [
    {
     "name": "stdout",
     "output_type": "stream",
     "text": [
      "JobRole\n",
      "Healthcare Representative    0.068702\n",
      "Human Resources              0.230769\n",
      "Laboratory Technician        0.239382\n",
      "Manager                      0.049020\n",
      "Manufacturing Director       0.068966\n",
      "Research Director            0.025000\n",
      "Research Scientist           0.160959\n",
      "Sales Executive              0.174847\n",
      "Sales Representative         0.397590\n",
      "Name: Attrition, dtype: float64\n"
     ]
    }
   ],
   "source": [
    "attrition_by_job_role = subset_df.groupby('JobRole')['Attrition'].mean()\n",
    "print(attrition_by_job_role)"
   ]
  },
  {
   "attachments": {},
   "cell_type": "markdown",
   "metadata": {},
   "source": [
    "3, Visualize the attrition rates by job role using a bar plot: "
   ]
  },
  {
   "cell_type": "code",
   "execution_count": 30,
   "metadata": {},
   "outputs": [
    {
     "data": {
      "image/png": "[encoded data removed]",
      "text/plain": [
       "<Figure size 1000x600 with 1 Axes>"
      ]
     },
     "metadata": {},
     "output_type": "display_data"
    },
    {
     "data": {
      "text/plain": [
       "\"It subsets the DataFrame df2 to include only the columns 'Attrition', 'DistanceFromHome', and 'JobRole'.\\nIt calculates the overall correlation between distance from home and attrition for the entire dataset.\\nIt calculates the mean attrition rate by job role.\""
      ]
     },
     "execution_count": 30,
     "metadata": {},
     "output_type": "execute_result"
    }
   ],
   "source": [
    "# Bar plot of attrition rates by job role\n",
    "plt.figure(figsize=(10, 6))\n",
    "sns.barplot(x=attrition_by_job_role.index, y=attrition_by_job_role.values)\n",
    "plt.title('Attrition Rate by Job Role')\n",
    "plt.xlabel('Job Role')\n",
    "plt.ylabel('Attrition Rate')\n",
    "plt.xticks(rotation=90)\n",
    "plt.show()\n",
    "\n",
    "\"\"\"It subsets the DataFrame df2 to include only the columns 'Attrition', 'DistanceFromHome', and 'JobRole'.\n",
    "It calculates the overall correlation between distance from home and attrition for the entire dataset.\n",
    "It calculates the mean attrition rate by job role.\"\"\""
   ]
  },
  {
   "attachments": {},
   "cell_type": "markdown",
   "metadata": {},
   "source": [
    "##### It calculates the correlation between distance from home and attrition for each unique job role."
   ]
  },
  {
   "cell_type": "code",
   "execution_count": 31,
   "metadata": {},
   "outputs": [
    {
     "data": {
      "image/png": "[encoded data removed]",
      "text/plain": [
       "<Figure size 1000x600 with 1 Axes>"
      ]
     },
     "metadata": {},
     "output_type": "display_data"
    }
   ],
   "source": [
    "job_roles = df2['JobRole'].unique()\n",
    "\n",
    "correlations = {} \n",
    "for role in job_roles:\n",
    "    \n",
    "    subset = df2[df2['JobRole'] == role]\n",
    "    # subset = Sales Executive, 0.1 , 1\n",
    "    \n",
    "    correlation = subset['DistanceFromHome'].corr(subset['Attrition'])\n",
    "    \n",
    "    # correlation = Sales Executiv 0.1698105188381547\n",
    "    correlations[role] = correlation\n",
    "\n",
    "\n",
    "plt.figure(figsize=(10, 6))\n",
    "plt.bar(range(len(correlations)), list(correlations.values()), align='center')\n",
    "plt.xticks(range(len(correlations)), list(correlations.keys()), rotation=90)\n",
    "plt.xlabel('Job Role')\n",
    "plt.ylabel('Correlation')\n",
    "plt.title('Correlation between Distance From Home and Attrition by Job Role')\n",
    "plt.show()\n"
   ]
  },
  {
   "attachments": {},
   "cell_type": "markdown",
   "metadata": {},
   "source": []
  },
  {
   "attachments": {},
   "cell_type": "markdown",
   "metadata": {},
   "source": [
    "### 3, How does employee education level affect their monthly income, and does this impact attrition rates?"
   ]
  },
  {
   "attachments": {},
   "cell_type": "markdown",
   "metadata": {},
   "source": []
  },
  {
   "cell_type": "code",
   "execution_count": null,
   "metadata": {},
   "outputs": [],
   "source": []
  },
  {
   "attachments": {},
   "cell_type": "markdown",
   "metadata": {},
   "source": [
    "### 4, Are there any gender differences in job satisfaction, and does this impact attrition rates?"
   ]
  },
  {
   "attachments": {},
   "cell_type": "markdown",
   "metadata": {},
   "source": []
  },
  {
   "cell_type": "code",
   "execution_count": null,
   "metadata": {},
   "outputs": [],
   "source": []
  },
  {
   "attachments": {},
   "cell_type": "markdown",
   "metadata": {},
   "source": [
    "### 5, What factors are associated with employee performance ratings, and is there a relationship between performance ratings and attrition?"
   ]
  },
  {
   "attachments": {},
   "cell_type": "markdown",
   "metadata": {},
   "source": []
  },
  {
   "cell_type": "code",
   "execution_count": null,
   "metadata": {},
   "outputs": [],
   "source": []
  }
 ],
 "metadata": {
  "kernelspec": {
   "display_name": "Python 3",
   "language": "python",
   "name": "python3"
  },
  "language_info": {
   "codemirror_mode": {
    "name": "ipython",
    "version": 3
   },
   "file_extension": ".py",
   "mimetype": "text/x-python",
   "name": "python",
   "nbconvert_exporter": "python",
   "pygments_lexer": "ipython3",
   "version": "3.11.1"
  },
  "orig_nbformat": 4
 },
 "nbformat": 4,
 "nbformat_minor": 2
}
